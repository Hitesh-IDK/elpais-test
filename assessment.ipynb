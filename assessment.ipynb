{
 "cells": [
  {
   "cell_type": "code",
   "execution_count": 1,
   "id": "d5fb7d89-abda-4a8d-8921-70146a830758",
   "metadata": {},
   "outputs": [
    {
     "name": "stdout",
     "output_type": "stream",
     "text": [
      "Requirement already satisfied: selenium in c:\\users\\10hit\\anaconda3\\lib\\site-packages (4.34.2)\n",
      "Requirement already satisfied: urllib3~=2.5.0 in c:\\users\\10hit\\anaconda3\\lib\\site-packages (from urllib3[socks]~=2.5.0->selenium) (2.5.0)\n",
      "Requirement already satisfied: trio~=0.30.0 in c:\\users\\10hit\\anaconda3\\lib\\site-packages (from selenium) (0.30.0)\n",
      "Requirement already satisfied: trio-websocket~=0.12.2 in c:\\users\\10hit\\anaconda3\\lib\\site-packages (from selenium) (0.12.2)\n",
      "Requirement already satisfied: certifi>=2025.6.15 in c:\\users\\10hit\\anaconda3\\lib\\site-packages (from selenium) (2025.7.14)\n",
      "Requirement already satisfied: typing_extensions~=4.14.0 in c:\\users\\10hit\\anaconda3\\lib\\site-packages (from selenium) (4.14.0)\n",
      "Requirement already satisfied: websocket-client~=1.8.0 in c:\\users\\10hit\\anaconda3\\lib\\site-packages (from selenium) (1.8.0)\n",
      "Requirement already satisfied: attrs>=23.2.0 in c:\\users\\10hit\\anaconda3\\lib\\site-packages (from trio~=0.30.0->selenium) (25.3.0)\n",
      "Requirement already satisfied: sortedcontainers in c:\\users\\10hit\\anaconda3\\lib\\site-packages (from trio~=0.30.0->selenium) (2.4.0)\n",
      "Requirement already satisfied: idna in c:\\users\\10hit\\anaconda3\\lib\\site-packages (from trio~=0.30.0->selenium) (3.7)\n",
      "Requirement already satisfied: outcome in c:\\users\\10hit\\anaconda3\\lib\\site-packages (from trio~=0.30.0->selenium) (1.3.0.post0)\n",
      "Requirement already satisfied: sniffio>=1.3.0 in c:\\users\\10hit\\anaconda3\\lib\\site-packages (from trio~=0.30.0->selenium) (1.3.0)\n",
      "Requirement already satisfied: cffi>=1.14 in c:\\users\\10hit\\anaconda3\\lib\\site-packages (from trio~=0.30.0->selenium) (1.17.1)\n",
      "Requirement already satisfied: wsproto>=0.14 in c:\\users\\10hit\\anaconda3\\lib\\site-packages (from trio-websocket~=0.12.2->selenium) (1.2.0)\n",
      "Requirement already satisfied: pysocks!=1.5.7,<2.0,>=1.5.6 in c:\\users\\10hit\\anaconda3\\lib\\site-packages (from urllib3[socks]~=2.5.0->selenium) (1.7.1)\n",
      "Requirement already satisfied: pycparser in c:\\users\\10hit\\anaconda3\\lib\\site-packages (from cffi>=1.14->trio~=0.30.0->selenium) (2.21)\n",
      "Requirement already satisfied: h11<1,>=0.9.0 in c:\\users\\10hit\\anaconda3\\lib\\site-packages (from wsproto>=0.14->trio-websocket~=0.12.2->selenium) (0.14.0)\n",
      "Requirement already satisfied: requests in c:\\users\\10hit\\anaconda3\\lib\\site-packages (2.32.3)\n",
      "Requirement already satisfied: charset-normalizer<4,>=2 in c:\\users\\10hit\\anaconda3\\lib\\site-packages (from requests) (3.3.2)\n",
      "Requirement already satisfied: idna<4,>=2.5 in c:\\users\\10hit\\anaconda3\\lib\\site-packages (from requests) (3.7)\n",
      "Requirement already satisfied: urllib3<3,>=1.21.1 in c:\\users\\10hit\\anaconda3\\lib\\site-packages (from requests) (2.5.0)\n",
      "Requirement already satisfied: certifi>=2017.4.17 in c:\\users\\10hit\\anaconda3\\lib\\site-packages (from requests) (2025.7.14)\n"
     ]
    }
   ],
   "source": [
    "!pip install selenium\n",
    "!pip install requests"
   ]
  },
  {
   "cell_type": "code",
   "execution_count": 2,
   "id": "0be78d51-8dd5-4fe2-9592-3450b075a865",
   "metadata": {},
   "outputs": [],
   "source": [
    "from selenium import webdriver\n",
    "import requests\n",
    "import os\n",
    "from os import path\n",
    "from datetime import datetime\n",
    "from pathlib import Path\n",
    "from collections import defaultdict"
   ]
  },
  {
   "cell_type": "code",
   "execution_count": 3,
   "id": "d3546669-964c-483c-bd68-4cad56fdc611",
   "metadata": {},
   "outputs": [],
   "source": [
    "def setup(url):\n",
    "    driver = webdriver.Chrome() \n",
    "    driver.maximize_window()\n",
    "    driver.get(url)\n",
    "    return driver\n",
    "\n",
    "def teardown(driver):\n",
    "    driver.quit()"
   ]
  },
  {
   "cell_type": "code",
   "execution_count": 4,
   "id": "c603ea64-c3e8-4c44-b49e-3e5cd3ab943f",
   "metadata": {},
   "outputs": [],
   "source": [
    "url = \"https://elpais.com\"\n",
    "driver = setup(url)"
   ]
  },
  {
   "cell_type": "code",
   "execution_count": 5,
   "id": "ba22e871-b604-4292-a597-35b506701499",
   "metadata": {},
   "outputs": [],
   "source": [
    "from selenium.webdriver.support.wait import WebDriverWait\n",
    "from selenium.webdriver.common.by import By\n",
    "from selenium.common import NoSuchElementException, ElementNotInteractableException\n",
    "\n",
    "# Set implicit wait to be 25 seconds at start to wait for the notice card\n",
    "driver.implicitly_wait(25)\n",
    "\n",
    "# Find the notice element which asks for cookie acceptance\n",
    "noticeEle = driver.find_element(By.CSS_SELECTOR, \"[data-testid=notice]\")\n",
    "\n",
    "# Find the accept button and click it\n",
    "acceptCookies = noticeEle.find_element(By.ID, \"didomi-notice-agree-button\")\n",
    "\n",
    "wait = WebDriverWait(driver, timeout=5)\n",
    "wait.until(lambda _: acceptCookies.text == \"Accept\")\n",
    "assert acceptCookies.text == \"Accept\"\n",
    "\n",
    "acceptCookies.click()\n",
    "\n",
    "# Set the implicit wait to be shorter for the rest of the operations\n",
    "driver.implicitly_wait(2)"
   ]
  },
  {
   "cell_type": "code",
   "execution_count": 6,
   "id": "d81c2563-408a-4512-b7e5-84b337eeab19",
   "metadata": {},
   "outputs": [],
   "source": [
    "# Navigate to the nav bar\n",
    "nav = driver.find_element(By.TAG_NAME, \"nav\")\n",
    "navElements = nav.find_elements(By.TAG_NAME, \"a\")\n",
    "assert len(navElements) > 2\n",
    "\n",
    "# Find the opinion anchor\n",
    "opinionEle = navElements[1]\n",
    "assert opinionEle.text.lower() == \"opinión\"\n",
    "opinionEle.click()\n",
    "assert driver.title == \"Opinión en EL PAÍS\""
   ]
  },
  {
   "cell_type": "code",
   "execution_count": 8,
   "id": "1519f72c-52a6-4b49-9cfd-a020b8d33fb1",
   "metadata": {},
   "outputs": [],
   "source": [
    "# Save image using the url\n",
    "def saveImage(url, index):\n",
    "    response = requests.get(url, stream=True)\n",
    "    imagePath = path.join(currPath, f\"{index}.jpg\")\n",
    "    \n",
    "    with open(imagePath, \"wb\") as f:\n",
    "        for chunk in response.iter_content(chunk_size=8192):\n",
    "            f.write(chunk)"
   ]
  },
  {
   "cell_type": "code",
   "execution_count": 11,
   "id": "3764756d-fc15-4026-91b6-66f86f9ef30d",
   "metadata": {},
   "outputs": [],
   "source": [
    "project_num = os.getenv(\"GCP_PROJECT_NUM\")\n",
    "api_key = os.getenv(\"GCP_API_KEY\")\n",
    "\n",
    "assert project_num != None\n",
    "assert api_key != None\n",
    "\n",
    "def translateText(texts):\n",
    "    req_url = f\"https://translation.googleapis.com/language/translate/v2?key={api_key}\"\n",
    "    parameters = {\n",
    "      \"format\": \"text\",\n",
    "      \"q\": texts,\n",
    "      \"target\": \"en\",\n",
    "      \"source\": \"es\"\n",
    "    }\n",
    "\n",
    "    response = requests.post(req_url, json=parameters)\n",
    "    response.raise_for_status()\n",
    "\n",
    "    data = response.json().get(\"data\")\n",
    "    assert data != None\n",
    "    \n",
    "    translations = map(lambda item: item.get(\"translatedText\"), data.get(\"translations\", []))\n",
    "    return list(translations)"
   ]
  },
  {
   "cell_type": "code",
   "execution_count": 12,
   "id": "2f18a9a3-84fd-4f07-9b26-8965da4372e5",
   "metadata": {},
   "outputs": [],
   "source": [
    "# Extract the article details\n",
    "def extractArticle(article):\n",
    "    headerEle = article.find_element(By.CSS_SELECTOR, \"h2\")\n",
    "    header = headerEle.text\n",
    "    \n",
    "    headerUrl = headerEle.find_element(By.TAG_NAME, \"a\").get_attribute(\"href\")\n",
    "    content = article.find_element(By.TAG_NAME, \"p\").text\n",
    "\n",
    "    imageUrl = \"\"\n",
    "    try:\n",
    "        imageEle = article.find_element(By.CSS_SELECTOR, \"figure > a > img\")\n",
    "    except NoSuchElementException:\n",
    "        pass\n",
    "    except Exception as e:\n",
    "        raise e\n",
    "\n",
    "    return {\n",
    "        \"header\": header,\n",
    "        \"headerURL\": headerUrl,\n",
    "        \"imageURL\": imageUrl,\n",
    "        \"content\": content\n",
    "    }"
   ]
  },
  {
   "cell_type": "code",
   "execution_count": 16,
   "id": "44c888a4-6c4a-4fd0-995c-9929eaa9bf90",
   "metadata": {},
   "outputs": [],
   "source": [
    "# Get the articles and its container\n",
    "articleContainer = driver.find_element(By.CSS_SELECTOR, \"main > div\")\n",
    "articles = articleContainer.find_elements(By.TAG_NAME, \"article\")\n",
    "\n",
    "# Save a screenshot of the content that is being tested\n",
    "contentPath = path.join(currPath, \"content.png\")\n",
    "articleContainer.screenshot(contentPath)\n",
    "\n",
    "extractedData = []\n",
    "headers = []\n",
    "for i in range(5):\n",
    "    article = articles[i]\n",
    "    data = extractArticle(article)\n",
    "    extractedData.append(data)\n",
    "\n",
    "    headers.append(data[\"header\"])\n",
    "    if data.get(\"imageURL\", \"\") != \"\":\n",
    "        saveImage(data.get(\"imageURL\"), i)\n",
    "\n",
    "# Translate texts to english\n",
    "translatedHeaders = translateText(headers)"
   ]
  },
  {
   "cell_type": "code",
   "execution_count": 25,
   "id": "8b84af8d-7d17-4b31-b54c-6cf8fd0d46cd",
   "metadata": {},
   "outputs": [
    {
     "name": "stdout",
     "output_type": "stream",
     "text": [
      "\n",
      "-----------------Repeated Words-----------------\n",
      "for :  2\n",
      "\n",
      "--------------------Unique Words--------------------\n",
      "Science, rebels, against, Trump, The, far, right, erupts, in, Japan, Closed, vacation, Every, man, himself, ‘Inventory, of, a, perfect, trip’\n",
      "\n"
     ]
    }
   ],
   "source": [
    "count = defaultdict(int)\n",
    "\n",
    "for header in translatedHeaders:\n",
    "    words = header.split(\" \")\n",
    "    for word in words:\n",
    "        count[word] += 1\n",
    "\n",
    "unique = []\n",
    "print()\n",
    "print(\"-----------------Repeated Words-----------------\")\n",
    "for key in count.keys():\n",
    "    if count[key] > 1:\n",
    "        print(key, \": \", count[key])\n",
    "    else:\n",
    "        unique.append(key)\n",
    "\n",
    "print()\n",
    "print(\"--------------------Unique Words--------------------\")\n",
    "print(\", \".join(unique))\n",
    "print()"
   ]
  },
  {
   "cell_type": "code",
   "execution_count": null,
   "id": "7e34b193-4a86-4bd5-ab10-e3441a1057c3",
   "metadata": {},
   "outputs": [],
   "source": []
  }
 ],
 "metadata": {
  "kernelspec": {
   "display_name": "Python 3 (ipykernel)",
   "language": "python",
   "name": "python3"
  },
  "language_info": {
   "codemirror_mode": {
    "name": "ipython",
    "version": 3
   },
   "file_extension": ".py",
   "mimetype": "text/x-python",
   "name": "python",
   "nbconvert_exporter": "python",
   "pygments_lexer": "ipython3",
   "version": "3.12.7"
  }
 },
 "nbformat": 4,
 "nbformat_minor": 5
}
